{
 "cells": [
  {
   "cell_type": "code",
   "execution_count": 1,
   "metadata": {},
   "outputs": [],
   "source": [
    "# numpy import\n",
    "import numpy as np"
   ]
  },
  {
   "cell_type": "code",
   "execution_count": 2,
   "metadata": {},
   "outputs": [],
   "source": [
    "# word embedding:  dictionary that maps word indexes to weights (numbers)\n",
    "embedding = {i: np.random.normal(0, .1, 10) for i in range(10001)}"
   ]
  },
  {
   "cell_type": "code",
   "execution_count": 7,
   "metadata": {},
   "outputs": [
    {
     "data": {
      "text/plain": [
       "array([-0.00575828, -0.01843763,  0.1004166 , -0.07465399, -0.02449655,\n",
       "        0.16242942, -0.08768474,  0.078154  , -0.15002109, -0.00116763])"
      ]
     },
     "execution_count": 7,
     "metadata": {},
     "output_type": "execute_result"
    }
   ],
   "source": [
    "# observe what it is\n",
    "embedding[0]"
   ]
  },
  {
   "cell_type": "code",
   "execution_count": 4,
   "metadata": {},
   "outputs": [],
   "source": [
    "# sample data sequences\n",
    "sequence1 = [1, 13, 24, 12, 55, 1, 2, 3]\n",
    "sequence2 = [2, 24, 15, 23, 3, 2, 1, 5]"
   ]
  },
  {
   "cell_type": "code",
   "execution_count": 5,
   "metadata": {},
   "outputs": [],
   "source": [
    "# sample data point to hold our data\n",
    "dat_point1 = np.zeros((8, 10))"
   ]
  },
  {
   "cell_type": "code",
   "execution_count": 6,
   "metadata": {},
   "outputs": [
    {
     "data": {
      "text/plain": [
       "array([[0., 0., 0., 0., 0., 0., 0., 0., 0., 0.],\n",
       "       [0., 0., 0., 0., 0., 0., 0., 0., 0., 0.],\n",
       "       [0., 0., 0., 0., 0., 0., 0., 0., 0., 0.],\n",
       "       [0., 0., 0., 0., 0., 0., 0., 0., 0., 0.],\n",
       "       [0., 0., 0., 0., 0., 0., 0., 0., 0., 0.],\n",
       "       [0., 0., 0., 0., 0., 0., 0., 0., 0., 0.],\n",
       "       [0., 0., 0., 0., 0., 0., 0., 0., 0., 0.],\n",
       "       [0., 0., 0., 0., 0., 0., 0., 0., 0., 0.]])"
      ]
     },
     "execution_count": 6,
     "metadata": {},
     "output_type": "execute_result"
    }
   ],
   "source": [
    "# empty zeroes\n",
    "dat_point1"
   ]
  },
  {
   "cell_type": "code",
   "execution_count": 11,
   "metadata": {},
   "outputs": [
    {
     "data": {
      "text/plain": [
       "[1, 13, 24, 12, 55, 1, 2, 3]"
      ]
     },
     "execution_count": 11,
     "metadata": {},
     "output_type": "execute_result"
    }
   ],
   "source": [
    "sequence1"
   ]
  },
  {
   "cell_type": "code",
   "execution_count": 12,
   "metadata": {},
   "outputs": [
    {
     "data": {
      "text/plain": [
       "array([-0.0379425 , -0.01250618, -0.0595131 ,  0.1336302 ,  0.02039643,\n",
       "       -0.04423661,  0.1419813 ,  0.04637217, -0.01507461, -0.05092055])"
      ]
     },
     "execution_count": 12,
     "metadata": {},
     "output_type": "execute_result"
    }
   ],
   "source": [
    "embedding[1]"
   ]
  },
  {
   "cell_type": "code",
   "execution_count": 8,
   "metadata": {},
   "outputs": [],
   "source": [
    "# fill each row with the weight for each corresponding word\n",
    "for idx, val in enumerate(sequence1):\n",
    "    dat_point1[idx] = embedding[val]"
   ]
  },
  {
   "cell_type": "code",
   "execution_count": 9,
   "metadata": {},
   "outputs": [
    {
     "data": {
      "text/plain": [
       "array([[-0.0379425 , -0.01250618, -0.0595131 ,  0.1336302 ,  0.02039643,\n",
       "        -0.04423661,  0.1419813 ,  0.04637217, -0.01507461, -0.05092055],\n",
       "       [-0.01213781,  0.04717848,  0.13076187,  0.14805906, -0.09567714,\n",
       "        -0.13005126, -0.02781359, -0.00316943,  0.15518636,  0.04694057],\n",
       "       [-0.0320651 ,  0.03249286,  0.18560175,  0.06210667, -0.1834811 ,\n",
       "         0.05599488,  0.0191561 , -0.10627522,  0.05272406,  0.00389429],\n",
       "       [-0.14807935,  0.12740322, -0.06671444,  0.03766433,  0.07875512,\n",
       "        -0.04121777, -0.15800952, -0.12158824,  0.00516187,  0.14027461],\n",
       "       [-0.01112548, -0.20637707,  0.19445019, -0.00223276, -0.06547164,\n",
       "         0.13051406,  0.00258156,  0.09466796,  0.12006577,  0.05615597],\n",
       "       [-0.0379425 , -0.01250618, -0.0595131 ,  0.1336302 ,  0.02039643,\n",
       "        -0.04423661,  0.1419813 ,  0.04637217, -0.01507461, -0.05092055],\n",
       "       [ 0.06591413, -0.02877414,  0.15354378, -0.01613211, -0.04847059,\n",
       "         0.09202891,  0.16453825, -0.09372177,  0.05370325, -0.10309237],\n",
       "       [-0.07228664, -0.03071344,  0.07182517,  0.1791513 , -0.02420136,\n",
       "         0.02818224, -0.04569918,  0.00049533, -0.05523672, -0.22198651]])"
      ]
     },
     "execution_count": 9,
     "metadata": {},
     "output_type": "execute_result"
    }
   ],
   "source": [
    "# this is the result that we get\n",
    "dat_point1"
   ]
  },
  {
   "cell_type": "code",
   "execution_count": 10,
   "metadata": {},
   "outputs": [
    {
     "data": {
      "text/plain": [
       "(8, 10)"
      ]
     },
     "execution_count": 10,
     "metadata": {},
     "output_type": "execute_result"
    }
   ],
   "source": [
    "dat_point1.shape"
   ]
  },
  {
   "cell_type": "code",
   "execution_count": 13,
   "metadata": {},
   "outputs": [
    {
     "data": {
      "text/plain": [
       "array([-0.0379425 , -0.01250618, -0.0595131 ,  0.1336302 ,  0.02039643,\n",
       "       -0.04423661,  0.1419813 ,  0.04637217, -0.01507461, -0.05092055])"
      ]
     },
     "execution_count": 13,
     "metadata": {},
     "output_type": "execute_result"
    }
   ],
   "source": [
    "# notice how the word indices match the embedding weights\n",
    "embedding[1]"
   ]
  },
  {
   "cell_type": "code",
   "execution_count": 14,
   "metadata": {},
   "outputs": [],
   "source": [
    "# function to \n",
    "def create_word_matrix(sequence, embedding, embedding_dim=10):\n",
    "    data_point = np.zeros((len(sequence), embedding_dim))\n",
    "    for idx, val in enumerate(sequence):\n",
    "        data_point[idx] = embedding[val]\n",
    "        \n",
    "    return data_point"
   ]
  },
  {
   "cell_type": "code",
   "execution_count": 15,
   "metadata": {},
   "outputs": [
    {
     "data": {
      "text/plain": [
       "array([[-0.0379425 , -0.01250618, -0.0595131 ,  0.1336302 ,  0.02039643,\n",
       "        -0.04423661,  0.1419813 ,  0.04637217, -0.01507461, -0.05092055],\n",
       "       [-0.01213781,  0.04717848,  0.13076187,  0.14805906, -0.09567714,\n",
       "        -0.13005126, -0.02781359, -0.00316943,  0.15518636,  0.04694057],\n",
       "       [-0.0320651 ,  0.03249286,  0.18560175,  0.06210667, -0.1834811 ,\n",
       "         0.05599488,  0.0191561 , -0.10627522,  0.05272406,  0.00389429],\n",
       "       [-0.14807935,  0.12740322, -0.06671444,  0.03766433,  0.07875512,\n",
       "        -0.04121777, -0.15800952, -0.12158824,  0.00516187,  0.14027461],\n",
       "       [-0.01112548, -0.20637707,  0.19445019, -0.00223276, -0.06547164,\n",
       "         0.13051406,  0.00258156,  0.09466796,  0.12006577,  0.05615597],\n",
       "       [-0.0379425 , -0.01250618, -0.0595131 ,  0.1336302 ,  0.02039643,\n",
       "        -0.04423661,  0.1419813 ,  0.04637217, -0.01507461, -0.05092055],\n",
       "       [ 0.06591413, -0.02877414,  0.15354378, -0.01613211, -0.04847059,\n",
       "         0.09202891,  0.16453825, -0.09372177,  0.05370325, -0.10309237],\n",
       "       [-0.07228664, -0.03071344,  0.07182517,  0.1791513 , -0.02420136,\n",
       "         0.02818224, -0.04569918,  0.00049533, -0.05523672, -0.22198651]])"
      ]
     },
     "execution_count": 15,
     "metadata": {},
     "output_type": "execute_result"
    }
   ],
   "source": [
    "create_word_matrix(sequence1, embedding, 10)"
   ]
  },
  {
   "cell_type": "code",
   "execution_count": 16,
   "metadata": {},
   "outputs": [],
   "source": [
    "# wrap up our sequences in a list\n",
    "sequences = [sequence1, sequence2]"
   ]
  },
  {
   "cell_type": "code",
   "execution_count": 17,
   "metadata": {},
   "outputs": [
    {
     "data": {
      "text/plain": [
       "[[1, 13, 24, 12, 55, 1, 2, 3], [2, 24, 15, 23, 3, 2, 1, 5]]"
      ]
     },
     "execution_count": 17,
     "metadata": {},
     "output_type": "execute_result"
    }
   ],
   "source": [
    "sequences"
   ]
  },
  {
   "cell_type": "code",
   "execution_count": 18,
   "metadata": {},
   "outputs": [],
   "source": [
    "# final matrix to hold our embedding data\n",
    "word_data = np.zeros((2, 8, 10))"
   ]
  },
  {
   "cell_type": "code",
   "execution_count": 19,
   "metadata": {},
   "outputs": [],
   "source": [
    "# fill in each row of the dataset with the encoded embedding data\n",
    "for idx, row in enumerate(word_data):\n",
    "    word_data[idx] = create_word_matrix(sequences[idx], embedding)"
   ]
  },
  {
   "cell_type": "code",
   "execution_count": 20,
   "metadata": {},
   "outputs": [
    {
     "data": {
      "text/plain": [
       "array([[-0.0379425 , -0.01250618, -0.0595131 ,  0.1336302 ,  0.02039643,\n",
       "        -0.04423661,  0.1419813 ,  0.04637217, -0.01507461, -0.05092055],\n",
       "       [-0.01213781,  0.04717848,  0.13076187,  0.14805906, -0.09567714,\n",
       "        -0.13005126, -0.02781359, -0.00316943,  0.15518636,  0.04694057],\n",
       "       [-0.0320651 ,  0.03249286,  0.18560175,  0.06210667, -0.1834811 ,\n",
       "         0.05599488,  0.0191561 , -0.10627522,  0.05272406,  0.00389429],\n",
       "       [-0.14807935,  0.12740322, -0.06671444,  0.03766433,  0.07875512,\n",
       "        -0.04121777, -0.15800952, -0.12158824,  0.00516187,  0.14027461],\n",
       "       [-0.01112548, -0.20637707,  0.19445019, -0.00223276, -0.06547164,\n",
       "         0.13051406,  0.00258156,  0.09466796,  0.12006577,  0.05615597],\n",
       "       [-0.0379425 , -0.01250618, -0.0595131 ,  0.1336302 ,  0.02039643,\n",
       "        -0.04423661,  0.1419813 ,  0.04637217, -0.01507461, -0.05092055],\n",
       "       [ 0.06591413, -0.02877414,  0.15354378, -0.01613211, -0.04847059,\n",
       "         0.09202891,  0.16453825, -0.09372177,  0.05370325, -0.10309237],\n",
       "       [-0.07228664, -0.03071344,  0.07182517,  0.1791513 , -0.02420136,\n",
       "         0.02818224, -0.04569918,  0.00049533, -0.05523672, -0.22198651]])"
      ]
     },
     "execution_count": 20,
     "metadata": {},
     "output_type": "execute_result"
    }
   ],
   "source": [
    "# this is what a single data point would look like\n",
    "word_data[0]"
   ]
  },
  {
   "cell_type": "code",
   "execution_count": 21,
   "metadata": {},
   "outputs": [
    {
     "data": {
      "text/plain": [
       "(2, 8, 10)"
      ]
     },
     "execution_count": 21,
     "metadata": {},
     "output_type": "execute_result"
    }
   ],
   "source": [
    "word_data.shape"
   ]
  },
  {
   "cell_type": "code",
   "execution_count": 24,
   "metadata": {},
   "outputs": [],
   "source": [
    "reshaped_data = word_data.reshape(2, -1)"
   ]
  },
  {
   "cell_type": "code",
   "execution_count": 25,
   "metadata": {},
   "outputs": [
    {
     "data": {
      "text/plain": [
       "(2, 80)"
      ]
     },
     "execution_count": 25,
     "metadata": {},
     "output_type": "execute_result"
    }
   ],
   "source": [
    "reshaped_data.shape"
   ]
  },
  {
   "cell_type": "code",
   "execution_count": 28,
   "metadata": {},
   "outputs": [],
   "source": [
    "dense_layer = np.random.normal(0, .1, size=(80, 50))"
   ]
  },
  {
   "cell_type": "code",
   "execution_count": 29,
   "metadata": {},
   "outputs": [
    {
     "data": {
      "text/plain": [
       "(2, 50)"
      ]
     },
     "execution_count": 29,
     "metadata": {},
     "output_type": "execute_result"
    }
   ],
   "source": [
    "reshaped_data.dot(dense_layer).shape"
   ]
  },
  {
   "cell_type": "code",
   "execution_count": 30,
   "metadata": {},
   "outputs": [],
   "source": [
    "inner_data = reshaped_data.dot(dense_layer)"
   ]
  },
  {
   "cell_type": "code",
   "execution_count": 31,
   "metadata": {},
   "outputs": [
    {
     "data": {
      "text/plain": [
       "(2, 50)"
      ]
     },
     "execution_count": 31,
     "metadata": {},
     "output_type": "execute_result"
    }
   ],
   "source": [
    "inner_data.shape"
   ]
  },
  {
   "cell_type": "code",
   "execution_count": 33,
   "metadata": {},
   "outputs": [
    {
     "data": {
      "text/plain": [
       "array([[0.0229293 , 0.01092516, 0.        , 0.11568183, 0.        ,\n",
       "        0.        , 0.        , 0.        , 0.14117348, 0.10657548,\n",
       "        0.        , 0.22446865, 0.        , 0.04701649, 0.00521684,\n",
       "        0.        , 0.12577013, 0.        , 0.08424943, 0.        ,\n",
       "        0.0298479 , 0.        , 0.23155516, 0.        , 0.12408567,\n",
       "        0.        , 0.        , 0.        , 0.        , 0.        ,\n",
       "        0.06950929, 0.        , 0.        , 0.        , 0.08448576,\n",
       "        0.        , 0.        , 0.        , 0.        , 0.        ,\n",
       "        0.        , 0.01563881, 0.09228933, 0.        , 0.        ,\n",
       "        0.09191093, 0.        , 0.05001061, 0.        , 0.        ],\n",
       "       [0.11911347, 0.08305126, 0.        , 0.        , 0.00045809,\n",
       "        0.        , 0.        , 0.        , 0.        , 0.        ,\n",
       "        0.        , 0.00379221, 0.        , 0.0480879 , 0.15170916,\n",
       "        0.07009375, 0.        , 0.07400112, 0.08409322, 0.04677329,\n",
       "        0.06682245, 0.01267106, 0.        , 0.02150522, 0.10126155,\n",
       "        0.        , 0.01977412, 0.25348494, 0.        , 0.        ,\n",
       "        0.1423227 , 0.        , 0.0591879 , 0.03629985, 0.06689818,\n",
       "        0.        , 0.09886506, 0.0760196 , 0.03619123, 0.        ,\n",
       "        0.        , 0.        , 0.        , 0.00184995, 0.14818897,\n",
       "        0.0494359 , 0.        , 0.        , 0.22255509, 0.        ]])"
      ]
     },
     "execution_count": 33,
     "metadata": {},
     "output_type": "execute_result"
    }
   ],
   "source": [
    "# this is the relu function -- takes negative values and sets to zero\n",
    "np.maximum(inner_data,0)"
   ]
  },
  {
   "cell_type": "code",
   "execution_count": 34,
   "metadata": {},
   "outputs": [],
   "source": [
    "inner_data = np.maximum(inner_data,0)"
   ]
  },
  {
   "cell_type": "code",
   "execution_count": 35,
   "metadata": {},
   "outputs": [
    {
     "data": {
      "text/plain": [
       "(2, 50)"
      ]
     },
     "execution_count": 35,
     "metadata": {},
     "output_type": "execute_result"
    }
   ],
   "source": [
    "inner_data.shape"
   ]
  },
  {
   "cell_type": "code",
   "execution_count": 36,
   "metadata": {},
   "outputs": [],
   "source": [
    "final_layer = np.random.normal(0, .1, size=(50, 1))"
   ]
  },
  {
   "cell_type": "code",
   "execution_count": 37,
   "metadata": {},
   "outputs": [
    {
     "data": {
      "text/plain": [
       "array([[-0.04106807],\n",
       "       [ 0.03352435]])"
      ]
     },
     "execution_count": 37,
     "metadata": {},
     "output_type": "execute_result"
    }
   ],
   "source": [
    "inner_data.dot(final_layer)"
   ]
  },
  {
   "cell_type": "code",
   "execution_count": 43,
   "metadata": {},
   "outputs": [],
   "source": [
    "def sigmoid(x):\n",
    "    return 1 / (1 + np.exp(-x))"
   ]
  },
  {
   "cell_type": "code",
   "execution_count": 49,
   "metadata": {},
   "outputs": [
    {
     "data": {
      "text/plain": [
       "0.9999999999999873"
      ]
     },
     "execution_count": 49,
     "metadata": {},
     "output_type": "execute_result"
    }
   ],
   "source": [
    "sigmoid(32)"
   ]
  },
  {
   "cell_type": "code",
   "execution_count": 50,
   "metadata": {},
   "outputs": [],
   "source": [
    "final_output = inner_data.dot(final_layer)"
   ]
  },
  {
   "cell_type": "code",
   "execution_count": 51,
   "metadata": {},
   "outputs": [
    {
     "data": {
      "text/plain": [
       "array([[0.48973442],\n",
       "       [0.5083803 ]])"
      ]
     },
     "execution_count": 51,
     "metadata": {},
     "output_type": "execute_result"
    }
   ],
   "source": [
    "sigmoid(final_output)"
   ]
  },
  {
   "cell_type": "code",
   "execution_count": null,
   "metadata": {},
   "outputs": [],
   "source": []
  }
 ],
 "metadata": {
  "kernelspec": {
   "display_name": "Python 3",
   "language": "python",
   "name": "python3"
  },
  "language_info": {
   "codemirror_mode": {
    "name": "ipython",
    "version": 3
   },
   "file_extension": ".py",
   "mimetype": "text/x-python",
   "name": "python",
   "nbconvert_exporter": "python",
   "pygments_lexer": "ipython3",
   "version": "3.8.3"
  }
 },
 "nbformat": 4,
 "nbformat_minor": 4
}
