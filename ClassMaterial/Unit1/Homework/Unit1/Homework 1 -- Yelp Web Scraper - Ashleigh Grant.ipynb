{
 "cells": [
  {
   "cell_type": "markdown",
   "metadata": {},
   "source": [
    "### Unit 1 Homework:  Scraping the Yelp Website\n",
    "\n",
    "Welcome!  For this homework assignment you'll be tasked with building a web scraper in a manner that builds on what was covered in our web scraping class.\n",
    "\n",
    "The assignment will extend the lab work done during that time, where we built a dataset that listed the name, number of reviews and price range for restaurant on the following web page: https://www.yelp.com/search?find_desc=Restaurants&find_loc=London%2C%20United%20Kingdom&ns=1\n",
    "\n",
    "Your most basic task is to build a dataset from the above website that has the following characteristics:\n",
    "\n",
    " - Has at least 5 columns (they can overlap with what we created in class)\n",
    " - Has at least 100 rows (this means you will have to scrape more than 1 page)\n",
    " \n",
    "Your final product will be a jupyter notebook that has the following characteristics:\n",
    "\n",
    " - It results in the creation of a pandas dataframe\n",
    " - You should write comments in every cell explaining what you are doing and your line of thinking\n",
    " \n",
    "**Bonus:**\n",
    "\n",
    " - If you'd like you can cycle through different pages manually, but see if you can do so programmatically -- ie, using loops (**hint: ** `while` loops can help here, as well as `try/except` blocks to catch errors)\n",
    " - Some values are not consistent across every entry so you might have to provide checks to see if a value exists at all"
   ]
  },
  {
   "cell_type": "code",
   "execution_count": 1,
   "metadata": {},
   "outputs": [],
   "source": [
    "# imports\n",
    "from bs4 import BeautifulSoup\n",
    "import pandas as pd\n",
    "import requests\n"
   ]
  },
  {
   "cell_type": "code",
   "execution_count": null,
   "metadata": {},
   "outputs": [],
   "source": []
  },
  {
   "cell_type": "code",
   "execution_count": 2,
   "metadata": {},
   "outputs": [
    {
     "name": "stdout",
     "output_type": "stream",
     "text": [
      "['The Mayfair Chippy', 'Dishoom', 'Flat Iron', 'Restaurant Gordon Ramsay', 'Ffiona’s Restaurant', 'Mother Mash', 'The Queens Arms', 'Padella', 'The Grazing Goat', 'The Golden Chippy', 'BAO - Soho', 'Duck &amp; Waffle', 'Ye Olde Cheshire Cheese', 'Dishoom', 'The Pig and Butcher', 'Gordon Ramsay Street Pizza', 'Sketch', 'NOPI', 'The Churchill Arms', 'Abeno', 'The Victoria', 'The Shed', 'Shoryu Ramen', 'Busaba Soho', 'The Colonel Fawcett', 'Burger &amp; Lobster', 'Hawksmoor Seven Dials', 'Savoir Faire', 'Yauatcha', 'London House by Gordon Ramsay']\n",
      "30\n",
      "['Dinner by Heston Blumenthal', 'Kazan', 'Wright Brothers - South Kensington', 'Barrafina', 'Belgo Centraal', 'Lanzhou Noodle Bar', 'Yasmeen Restaurant', 'Barrafina', 'The Ledbury', 'Piccolino', 'Smoking Goat', 'Roti Chai', 'Steak &amp; Co', 'Naru', 'The George Inn', 'Homeslice Neal’s Yard', 'St John Bar and Restaurant', 'Wahaca', 'José', 'Hoppers', 'Silk Road', 'The Palomar Restaurant', 'Negril', 'The Ninth London', 'Kiln', 'Da Mario Restaurant', 'The Lock Tavern', 'Dominique Ansel Treehouse', 'Wright Brothers', 'The Cow']\n",
      "30\n",
      "['Eat Aroi Thai', 'Chiltern Firehouse', 'Tayyabs', 'Cambridge Street', 'The Queen of Sheba', 'Bizzarro', 'Ngon Ngon', 'Lemonia', 'The Barbary', 'Laughing Halibut', 'Duck &amp; Waffle Local', 'Bradleys Restaurant', 'Circolo Popolare', 'Boqueria', 'Burger &amp; Lobster', 'Honey &amp; Co', 'BunBunBun Vietnamese Food', 'Poppies', 'Orjowan Lebanese Cuisine', 'Chee Mc', 'Flat Iron', 'Fish in a Tie', 'The Swan', 'Ottolenghi', 'On The Bab', 'Firecracker', 'La Patagonia', 'Honest Burgers Meard St - Soho', 'The Narrow by Gordon Ramsay', 'The Barge House']\n",
      "30\n",
      "['The Marquis of Westminster', 'Chicken Shop', 'Czechoslovak National House Club &amp; Restaurant', 'Maggie Jones’s', 'BAO', 'Jinjuu', 'CASK Pub and Kitchen', 'Andrew Edmunds', 'Pachamama', 'Scott’s', 'Kimchee', 'Kanada-Ya', 'Piebury Corner', 'Pieminister', 'Pho House', 'Kintan Japanese BBQ', 'The Harwood Arms', 'The Real Greek - Soho', 'Som Saa', 'The Rum Kitchen', 'Blacklock', 'The Pineapple', 'Xi’An BiangBiang Noodles', 'Social Eating House', 'Market Halls Victoria', 'Maroush II', 'Jakobs', 'Texas Joe’s', 'Lobos Meat and Tapas', 'The Ivy']\n",
      "30\n"
     ]
    }
   ],
   "source": [
    "#create empty list for names from all pages\n",
    "all_names = []\n",
    "\n",
    "# create list of values to amend url with\n",
    "start_from = [0, 30, 60, 90]\n",
    "\n",
    "# create for loop to run through start_from values to create a url per web page, to be used for scraping\n",
    "for i in start_from:\n",
    "    url = \"https://www.yelp.com/search?find_desc=Restaurants&find_loc=London%2C%20United%20Kingdom&ns=1&start={}\".format(i)\n",
    "    req = requests.get(url)\n",
    "    hwk_scraper = BeautifulSoup(req.text)\n",
    "    \n",
    "# find all restaurant names    \n",
    "    names = hwk_scraper.find_all(\"a\", {\"class\": \"lemon--a__373c0__IEZFH\",\n",
    "                                   \"class\": \"link__373c0__1G70M\",\n",
    "                                   \"class\": \"link-color--inherit__373c0__3dzpk\",\n",
    "                                   \"class\": \"link-size--inherit__373c0__1VFlE\"})\n",
    "# convert names to string data type\n",
    "    names = [str(name) for name in names]\n",
    "# remove </a> tag\n",
    "    names = [name.replace(\"</a>\", \"\") for name in names]\n",
    "# split each item to retain only the restaurant name    \n",
    "    names = [name.split(\">\")[-1] for name in names]\n",
    "# remove more from the names list\n",
    "    names = [name for name in names if name != \"more\"]\n",
    "# trim names list to remove empty entries \"\"     \n",
    "    names = names[:-8]\n",
    "# check contents of names. count items in names. if longer than 30, remove last item in list\n",
    "    if len(names) == 31:\n",
    "        names = names[:-1]    \n",
    "    print(names)    \n",
    "    print(len(names))\n",
    "\n",
    "# store names in this loop to all_names list\n",
    "    all_names.append(names)"
   ]
  },
  {
   "cell_type": "code",
   "execution_count": 3,
   "metadata": {},
   "outputs": [
    {
     "name": "stdout",
     "output_type": "stream",
     "text": [
      "['277', '1842', '377', '204', '270', '468', '119', '202', '239', '108', '183', '701', '353', '544', '109', '30', '830', '271', '358', '101', '212', '78', '375', '381', '26', '292', '342', '194', '482', '22']\n",
      "30\n",
      "['289', '112', '22', '61', '319', '351', '14', '37', '168', '47', '30', '297', '110', '65', '142', '227', '294', '310', '82', '113', '44', '104', '54', '22', '51', '139', '93', '3', '89', '54']\n",
      "30\n",
      "['23', '145', '683', '50', '22', '149', '57', '94', '64', '243', '142', '10', '11', '11', '95', '110', '33', '340', '105', '12', '3', '33', '115', '213', '91', '48', '35', '276', '105', '27']\n",
      "30\n",
      "['121', '23', '26', '119', '46', '97', '139', '68', '38', '95', '124', '163', '35', '90', '23', '49', '126', '18', '41', '78', '110', '51', '17', '93', '10', '98', '27', '22', '30', '170']\n",
      "30\n"
     ]
    }
   ],
   "source": [
    "# repeat but for number of reviews\n",
    "all_reviews = []\n",
    "\n",
    "for i in start_from:\n",
    "    url = \"https://www.yelp.com/search?find_desc=Restaurants&find_loc=London%2C%20United%20Kingdom&ns=1&start={}\".format(i)\n",
    "    req = requests.get(url)\n",
    "    hwk_scraper = BeautifulSoup(req.text)\n",
    "\n",
    "\n",
    "    num_reviews = hwk_scraper.find_all(\"span\", {\"class\": \"lemon--span__373c0__3997G\", \n",
    "                                        \"class\": \"text__373c0__2Kxyz\",\n",
    "                                        \"class\": \"reviewCount__373c0__2r4xT\",\n",
    "                                        \"class\": \"text-color--black-extra-light__373c0__2OyzO\"})\n",
    "\n",
    "    num_reviews = [str(review) for review in num_reviews]\n",
    "    num_reviews = [review.replace(\"</span>\", \"\") for review in num_reviews]\n",
    "    num_reviews = [review.split(\">\")[-1] for review in num_reviews]\n",
    "    num_reviews = [review for review in num_reviews if review.isdigit()]\n",
    "    print(num_reviews)\n",
    "    print(len(num_reviews))\n",
    "    all_reviews.append(num_reviews)"
   ]
  },
  {
   "cell_type": "code",
   "execution_count": 25,
   "metadata": {},
   "outputs": [
    {
     "ename": "IndexError",
     "evalue": "string index out of range",
     "output_type": "error",
     "traceback": [
      "\u001b[0;31m---------------------------------------------------------------------------\u001b[0m",
      "\u001b[0;31mIndexError\u001b[0m                                Traceback (most recent call last)",
      "\u001b[0;32m<ipython-input-25-fe547ae4f914>\u001b[0m in \u001b[0;36m<module>\u001b[0;34m\u001b[0m\n\u001b[1;32m     19\u001b[0m     \u001b[0;32mfor\u001b[0m \u001b[0mindex\u001b[0m\u001b[0;34m,\u001b[0m \u001b[0mprice\u001b[0m \u001b[0;32min\u001b[0m \u001b[0menumerate\u001b[0m\u001b[0;34m(\u001b[0m\u001b[0mprice_ranges\u001b[0m\u001b[0;34m)\u001b[0m\u001b[0;34m:\u001b[0m\u001b[0;34m\u001b[0m\u001b[0;34m\u001b[0m\u001b[0m\n\u001b[1;32m     20\u001b[0m         \u001b[0;32mif\u001b[0m \u001b[0mprice\u001b[0m\u001b[0;34m.\u001b[0m\u001b[0misdigit\u001b[0m\u001b[0;34m(\u001b[0m\u001b[0;34m)\u001b[0m\u001b[0;34m:\u001b[0m\u001b[0;34m\u001b[0m\u001b[0;34m\u001b[0m\u001b[0m\n\u001b[0;32m---> 21\u001b[0;31m             \u001b[0mnext_price\u001b[0m \u001b[0;34m=\u001b[0m \u001b[0mprice\u001b[0m\u001b[0;34m[\u001b[0m\u001b[0mindex\u001b[0m \u001b[0;34m+\u001b[0m \u001b[0;36m1\u001b[0m\u001b[0;34m]\u001b[0m\u001b[0;34m\u001b[0m\u001b[0;34m\u001b[0m\u001b[0m\n\u001b[0m\u001b[1;32m     22\u001b[0m             \u001b[0mall_price_ranges\u001b[0m\u001b[0;34m.\u001b[0m\u001b[0mappend\u001b[0m\u001b[0;34m(\u001b[0m\u001b[0mnext_price\u001b[0m\u001b[0;34m)\u001b[0m\u001b[0;34m\u001b[0m\u001b[0;34m\u001b[0m\u001b[0m\n\u001b[1;32m     23\u001b[0m \u001b[0;34m\u001b[0m\u001b[0m\n",
      "\u001b[0;31mIndexError\u001b[0m: string index out of range"
     ]
    }
   ],
   "source": [
    "# repeat for price ranges\n",
    "all_price_ranges = []\n",
    "\n",
    "for i in start_from:\n",
    "    url = \"https://www.yelp.com/search?find_desc=Restaurants&find_loc=London%2C%20United%20Kingdom&ns=1&start={}\".format(i)\n",
    "    req = requests.get(url)\n",
    "    hwk_scraper = BeautifulSoup(req.text)\n",
    "    \n",
    "    price_ranges = hwk_scraper.find_all(\"span\", {\"class\": \"lemon--span__373c0__3997G\", \n",
    "                                        \"class\": \"text__373c0__2Kxyz\",\n",
    "                                        \"class\": \"reviewCount__373c0__2r4xT\",\n",
    "                                        \"class\": \"text-color--black-extra-light__373c0__2OyzO\"})\n",
    "\n",
    "    price_ranges = [str(price) for price in price_ranges]\n",
    "    price_ranges = [price.replace(\"</span>\", \"\") for price in price_ranges]\n",
    "    price_ranges = [price.split(\">\")[-1] for price in price_ranges]\n",
    "# price ranges immediately follow number of reviews \n",
    "# therefore if we isolate the reviews, we can take the next item and add it to the all_price_ranges list.\n",
    "# tried using enumerate and a blank list (next_price) to store the next items in the lists, \n",
    "# then append each next_price to all_price_ranges\n",
    "    next_price = []\n",
    "    for index, price in enumerate(price_ranges):\n",
    "        if price.isdigit():\n",
    "            next_price = price[index + 1]\n",
    "            all_price_ranges.append(next_price)\n",
    "            \n",
    "    \n",
    "    print(all_price_ranges)"
   ]
  },
  {
   "cell_type": "code",
   "execution_count": null,
   "metadata": {},
   "outputs": [],
   "source": [
    "#    price_ranges = price_ranges[1::3]\n",
    "#    price_ranges = [price for price in price_ranges if '\\xA3' in price]\n",
    "\n",
    "#    if len(price_ranges) != 30:\n",
    "\n",
    "#    print(price_ranges)\n",
    "#    print(len(price_ranges))\n",
    "\n"
   ]
  },
  {
   "cell_type": "code",
   "execution_count": 5,
   "metadata": {},
   "outputs": [
    {
     "name": "stdout",
     "output_type": "stream",
     "text": [
      "['14 North Audley Street', \"12 Upper Saint Martin's Lane\", '17 Beak Street', '68 Royal Hospital Road', '51 Kensington Church Street', '26 Ganton Street', '11 Warwick Way', '6 Southwark Street', '6 New Quebec Street', '62 Greenwich High Road', '53 Lexington Street', '110 Bishopsgate', '145 Fleet Street', '22 Kingly Street', '80 Liverpool Road', '10 Bread Street', '9 Conduit Street', '21-22 Warwick Street', '119 Kensington Church Street', '47 Museum Street', '10a Strathearn Place', '122 Palace Gardens Terrace', '9 Regent Street', '106-110 Wardour Street', '1 Randolph Street', '36 Dean Street', '11 Langley Street', '42 New Oxford Street', '15-17 Broadwick Street', '7-9 Battersea Square']\n",
      "30\n",
      "['66 Knightsbridge', '93-94 Wilton Road', '56 Old Brompton Road', '43 Drury Lane', '50 Earlham Street', '33 Cranbourne Street', '1 Blenheim Terrace', '26 Dean Street', '127 Ledbury Road', '21 Heddon Street', '64 Shoreditch High Street', '3 Portman Mews South', '3/5 Charing Cross Road', '230 Shaftsbury Avenue', '75-77 Borough High Street', \"13 Neal's Yard\", '26 St John Street', '80 Wardour Street', '104 Bermondsey Street', '49 Frith Street', '49 Camberwell Church Street', '34 Rupert Street', '132 Brixton Hill', '22 Charlotte Street', '58 Brewer Street', '15 Gloucester Road', '35 Chalk Farm Road', '24 Floral Street', '11 Stoney Street', '89 Westbourne Park Road']\n",
      "30\n",
      "['100 N End Road', '1 Chiltern Street', '83-89 Fieldgate Street', '52 Cambridge Street', '12 Fortess Road', '18-22 Craven Road', '144 Clerkenwell Road', '89 Regents Park Road', \"16 Neal's Yard\", '38 Strutton Ground', '52 Haymarket', '25 Winchester Road', '40-41 Rathbone Place', '278 Queenstown Road', '109 - 125 Knightsbridge', '25a Warren Street', '134B Kingsland Road', '6-8 Hanbury Street', '6 Kenway Road', '310 Walworth Road', '47 - 51 Caledonian Road', '105 Falcon Road', '66 Bayswater Road', '287 Upper Street', '305 Old Street', '44 Horseferry Road', '31 Camden High Street', '4a Meard St', '44 Narrow Street', '46 De Beauvoir Crescent']\n",
      "30\n",
      "['50 Warwick Way', '202 High Holborn', '74 W End Lane', '6 Old Court Place', '31 Windmill Street', '15 Kingly Street', '6 Charlwood Street', '46 Lexington Street', '18 Thayer Street', '20 Mount Street', '71 High Holborn', '64 St Giles High Street', '209-211 Holloway Road', '56 Upper Ground', '39 Holloway Road', '34 High Holborn', '27 Walham Grove', '50 Berwick Street', '43A Commercial Street', '1st Floor Kingly Court', '24 Great Windmill Street', '51 Leverton Street', '62 Wentworth St', '58 Poland Street', '191 Victoria St', '38 Beauchamp Place', '20 Gloucester Road', '8-9 Snowsfields', '14 Borough High Street', '1 - 5 West Street']\n",
      "30\n"
     ]
    }
   ],
   "source": [
    "all_addresses = []\n",
    "\n",
    "for i in start_from:\n",
    "    url = \"https://www.yelp.com/search?find_desc=Restaurants&find_loc=London%2C%20United%20Kingdom&ns=1&start={}\".format(i)\n",
    "    req = requests.get(url)\n",
    "    hwk_scraper = BeautifulSoup(req.text)\n",
    "    \n",
    "    addresses = hwk_scraper.find_all(\"span\", {\"class\": \"lemon--span__373c0__3997G\",\n",
    "                                   \"class\": \"raw__373c0__3rcx7\"})\n",
    "    addresses = [str(address) for address in addresses]\n",
    "    addresses = [address.replace(\"</span>\", \"\") for address in addresses]\n",
    "    addresses = [address.split(\">\")[-1] for address in addresses]\n",
    "# trim list    \n",
    "    addresses = addresses[1:]\n",
    "# remove additional tags \"Delivery\" and \"Takeout\"    \n",
    "    addresses = [address for address in addresses if address != \"Delivery\" and \"Takeout\" not in address]\n",
    "    print(addresses)\n",
    "    print(len(addresses))\n",
    "    all_addresses.append(addresses)"
   ]
  },
  {
   "cell_type": "code",
   "execution_count": 6,
   "metadata": {},
   "outputs": [
    {
     "name": "stdout",
     "output_type": "stream",
     "text": [
      "['Mayfair', 'Covent Garden', 'Soho', 'Chelsea', 'Kensington', 'Soho', 'Victoria', 'London Bridge', 'Marylebone', 'Deptford', 'Soho', 'Aldgate', 'Blackfriars', 'Soho', 'Islington', 'The City', 'Mayfair', 'Soho', 'Notting Hill', 'Bloomsbury', 'Paddington', 'Notting Hill', \"St James's\", 'Soho', 'Camden Town', 'Soho', 'Covent Garden', 'Bloomsbury', 'Soho', 'Battersea']\n",
      "30\n",
      "['Hyde Park', 'Victoria', 'South Kensington', 'Covent Garden', 'Covent Garden', 'Covent Garden', \"St John's Wood\", 'Soho', 'Notting Hill', 'Mayfair', 'Shoreditch', 'Marylebone', 'Leicester Square', 'Covent Garden', 'Borough', 'Covent Garden', 'Farringdon', 'Soho', 'Borough', 'Soho', 'Camberwell', 'Chinatown', 'Brixton Hill', 'Fitzrovia', 'Soho', 'Kensington', 'Camden Town', 'Covent Garden', 'London Bridge', 'Bayswater']\n",
      "30\n",
      "['Barons Court', 'Marylebone', 'Whitechapel', 'Pimlico', 'Kentish Town', 'Paddington', 'Farringdon', 'Chalk Farm', 'Covent Garden', 'Westminster', 'Leicester Square', 'Swiss Cottage', 'Fitzrovia', 'Nine Elms', 'Belgravia', 'Fitzrovia', 'Haggerston', 'Brick Lane', 'South Kensington', 'Walworth', \"King's Cross\", 'Battersea', 'Bayswater', 'Islington', 'Hoxton Square', 'Westminster', 'Euston', 'Soho', 'Limehouse', 'De Beauvoir']\n",
      "30\n",
      "['Pimlico', 'Covent Garden', 'West Hampstead', 'Kensington', 'Fitzrovia', 'Soho', 'Pimlico', 'Soho', 'Marylebone', 'Mayfair', 'Bloomsbury', 'Bloomsbury', 'Lower Holloway', 'South Bank', 'Lower Holloway', 'Bloomsbury', 'West Brompton', 'Soho', 'Aldgate', 'Soho', 'Soho', 'Kentish Town', 'Petticoat Lane', 'Soho', 'Westminster', 'Chelsea', 'Kensington', 'Borough', 'London Bridge', 'Covent Garden']\n",
      "30\n"
     ]
    }
   ],
   "source": [
    "all_areas = []\n",
    "\n",
    "for i in start_from:\n",
    "    url = \"https://www.yelp.com/search?find_desc=Restaurants&find_loc=London%2C%20United%20Kingdom&ns=1&start={}\".format(i)\n",
    "    req = requests.get(url)\n",
    "    hwk_scraper = BeautifulSoup(req.text)\n",
    "\n",
    "    areas = hwk_scraper.find_all(\"p\", {\"class\": \"lemon--p__373c0__3Qnnj\",\n",
    "                                   \"class\": \"text__373c0__2Kxyz\",\n",
    "                                   \"class\": \"text-color--black-extra-light__373c0__2OyzO\",\n",
    "                                   \"class\": \"text-align--right__373c0__1f0KI\", \n",
    "                                   \"class\": \"text-size--small__373c0__3NVWO\"})\n",
    "    areas = [str(area) for area in areas]\n",
    "    areas = [area.replace(\"</p>\", \"\") for area in areas]\n",
    "    areas = [area.split(\">\")[-1] for area in areas]\n",
    "    areas = [area for area in areas if area != \"\"]\n",
    "# remove telephone numbers from items in list    \n",
    "    areas = [area for area in areas if \"020\" not in area and \"04420\" not in area]\n",
    "# trim list    \n",
    "    areas = areas[2:-1]\n",
    "# check contents of list. Given all lists equal length, there are no missing values extra values so no further changes    \n",
    "    print(areas)\n",
    "    print(len(areas))\n",
    "    all_areas.append(areas)"
   ]
  },
  {
   "cell_type": "code",
   "execution_count": 8,
   "metadata": {},
   "outputs": [
    {
     "name": "stdout",
     "output_type": "stream",
     "text": [
      "['The Mayfair Chippy', 'Dishoom', 'Flat Iron', 'Restaurant Gordon Ramsay', 'Ffiona’s Restaurant', 'Mother Mash', 'The Queens Arms', 'Padella', 'The Grazing Goat', 'The Golden Chippy', 'BAO - Soho', 'Duck &amp; Waffle', 'Ye Olde Cheshire Cheese', 'Dishoom', 'The Pig and Butcher', 'Gordon Ramsay Street Pizza', 'Sketch', 'NOPI', 'The Churchill Arms', 'Abeno', 'The Victoria', 'The Shed', 'Shoryu Ramen', 'Busaba Soho', 'The Colonel Fawcett', 'Burger &amp; Lobster', 'Hawksmoor Seven Dials', 'Savoir Faire', 'Yauatcha', 'London House by Gordon Ramsay', 'Dinner by Heston Blumenthal', 'Kazan', 'Wright Brothers - South Kensington', 'Barrafina', 'Belgo Centraal', 'Lanzhou Noodle Bar', 'Yasmeen Restaurant', 'Barrafina', 'The Ledbury', 'Piccolino', 'Smoking Goat', 'Roti Chai', 'Steak &amp; Co', 'Naru', 'The George Inn', 'Homeslice Neal’s Yard', 'St John Bar and Restaurant', 'Wahaca', 'José', 'Hoppers', 'Silk Road', 'The Palomar Restaurant', 'Negril', 'The Ninth London', 'Kiln', 'Da Mario Restaurant', 'The Lock Tavern', 'Dominique Ansel Treehouse', 'Wright Brothers', 'The Cow', 'Eat Aroi Thai', 'Chiltern Firehouse', 'Tayyabs', 'Cambridge Street', 'The Queen of Sheba', 'Bizzarro', 'Ngon Ngon', 'Lemonia', 'The Barbary', 'Laughing Halibut', 'Duck &amp; Waffle Local', 'Bradleys Restaurant', 'Circolo Popolare', 'Boqueria', 'Burger &amp; Lobster', 'Honey &amp; Co', 'BunBunBun Vietnamese Food', 'Poppies', 'Orjowan Lebanese Cuisine', 'Chee Mc', 'Flat Iron', 'Fish in a Tie', 'The Swan', 'Ottolenghi', 'On The Bab', 'Firecracker', 'La Patagonia', 'Honest Burgers Meard St - Soho', 'The Narrow by Gordon Ramsay', 'The Barge House', 'The Marquis of Westminster', 'Chicken Shop', 'Czechoslovak National House Club &amp; Restaurant', 'Maggie Jones’s', 'BAO', 'Jinjuu', 'CASK Pub and Kitchen', 'Andrew Edmunds', 'Pachamama', 'Scott’s', 'Kimchee', 'Kanada-Ya', 'Piebury Corner', 'Pieminister', 'Pho House', 'Kintan Japanese BBQ', 'The Harwood Arms', 'The Real Greek - Soho', 'Som Saa', 'The Rum Kitchen', 'Blacklock', 'The Pineapple', 'Xi’An BiangBiang Noodles', 'Social Eating House', 'Market Halls Victoria', 'Maroush II', 'Jakobs', 'Texas Joe’s', 'Lobos Meat and Tapas', 'The Ivy']\n",
      "['277', '1842', '377', '204', '270', '468', '119', '202', '239', '108', '183', '701', '353', '544', '109', '30', '830', '271', '358', '101', '212', '78', '375', '381', '26', '292', '342', '194', '482', '22', '289', '112', '22', '61', '319', '351', '14', '37', '168', '47', '30', '297', '110', '65', '142', '227', '294', '310', '82', '113', '44', '104', '54', '22', '51', '139', '93', '3', '89', '54', '23', '145', '683', '50', '22', '149', '57', '94', '64', '243', '142', '10', '11', '11', '95', '110', '33', '340', '105', '12', '3', '33', '115', '213', '91', '48', '35', '276', '105', '27', '121', '23', '26', '119', '46', '97', '139', '68', '38', '95', '124', '163', '35', '90', '23', '49', '126', '18', '41', '78', '110', '51', '17', '93', '10', '98', '27', '22', '30', '170']\n",
      "['14 North Audley Street', \"12 Upper Saint Martin's Lane\", '17 Beak Street', '68 Royal Hospital Road', '51 Kensington Church Street', '26 Ganton Street', '11 Warwick Way', '6 Southwark Street', '6 New Quebec Street', '62 Greenwich High Road', '53 Lexington Street', '110 Bishopsgate', '145 Fleet Street', '22 Kingly Street', '80 Liverpool Road', '10 Bread Street', '9 Conduit Street', '21-22 Warwick Street', '119 Kensington Church Street', '47 Museum Street', '10a Strathearn Place', '122 Palace Gardens Terrace', '9 Regent Street', '106-110 Wardour Street', '1 Randolph Street', '36 Dean Street', '11 Langley Street', '42 New Oxford Street', '15-17 Broadwick Street', '7-9 Battersea Square', '66 Knightsbridge', '93-94 Wilton Road', '56 Old Brompton Road', '43 Drury Lane', '50 Earlham Street', '33 Cranbourne Street', '1 Blenheim Terrace', '26 Dean Street', '127 Ledbury Road', '21 Heddon Street', '64 Shoreditch High Street', '3 Portman Mews South', '3/5 Charing Cross Road', '230 Shaftsbury Avenue', '75-77 Borough High Street', \"13 Neal's Yard\", '26 St John Street', '80 Wardour Street', '104 Bermondsey Street', '49 Frith Street', '49 Camberwell Church Street', '34 Rupert Street', '132 Brixton Hill', '22 Charlotte Street', '58 Brewer Street', '15 Gloucester Road', '35 Chalk Farm Road', '24 Floral Street', '11 Stoney Street', '89 Westbourne Park Road', '100 N End Road', '1 Chiltern Street', '83-89 Fieldgate Street', '52 Cambridge Street', '12 Fortess Road', '18-22 Craven Road', '144 Clerkenwell Road', '89 Regents Park Road', \"16 Neal's Yard\", '38 Strutton Ground', '52 Haymarket', '25 Winchester Road', '40-41 Rathbone Place', '278 Queenstown Road', '109 - 125 Knightsbridge', '25a Warren Street', '134B Kingsland Road', '6-8 Hanbury Street', '6 Kenway Road', '310 Walworth Road', '47 - 51 Caledonian Road', '105 Falcon Road', '66 Bayswater Road', '287 Upper Street', '305 Old Street', '44 Horseferry Road', '31 Camden High Street', '4a Meard St', '44 Narrow Street', '46 De Beauvoir Crescent', '50 Warwick Way', '202 High Holborn', '74 W End Lane', '6 Old Court Place', '31 Windmill Street', '15 Kingly Street', '6 Charlwood Street', '46 Lexington Street', '18 Thayer Street', '20 Mount Street', '71 High Holborn', '64 St Giles High Street', '209-211 Holloway Road', '56 Upper Ground', '39 Holloway Road', '34 High Holborn', '27 Walham Grove', '50 Berwick Street', '43A Commercial Street', '1st Floor Kingly Court', '24 Great Windmill Street', '51 Leverton Street', '62 Wentworth St', '58 Poland Street', '191 Victoria St', '38 Beauchamp Place', '20 Gloucester Road', '8-9 Snowsfields', '14 Borough High Street', '1 - 5 West Street']\n",
      "['Mayfair', 'Covent Garden', 'Soho', 'Chelsea', 'Kensington', 'Soho', 'Victoria', 'London Bridge', 'Marylebone', 'Deptford', 'Soho', 'Aldgate', 'Blackfriars', 'Soho', 'Islington', 'The City', 'Mayfair', 'Soho', 'Notting Hill', 'Bloomsbury', 'Paddington', 'Notting Hill', \"St James's\", 'Soho', 'Camden Town', 'Soho', 'Covent Garden', 'Bloomsbury', 'Soho', 'Battersea', 'Hyde Park', 'Victoria', 'South Kensington', 'Covent Garden', 'Covent Garden', 'Covent Garden', \"St John's Wood\", 'Soho', 'Notting Hill', 'Mayfair', 'Shoreditch', 'Marylebone', 'Leicester Square', 'Covent Garden', 'Borough', 'Covent Garden', 'Farringdon', 'Soho', 'Borough', 'Soho', 'Camberwell', 'Chinatown', 'Brixton Hill', 'Fitzrovia', 'Soho', 'Kensington', 'Camden Town', 'Covent Garden', 'London Bridge', 'Bayswater', 'Barons Court', 'Marylebone', 'Whitechapel', 'Pimlico', 'Kentish Town', 'Paddington', 'Farringdon', 'Chalk Farm', 'Covent Garden', 'Westminster', 'Leicester Square', 'Swiss Cottage', 'Fitzrovia', 'Nine Elms', 'Belgravia', 'Fitzrovia', 'Haggerston', 'Brick Lane', 'South Kensington', 'Walworth', \"King's Cross\", 'Battersea', 'Bayswater', 'Islington', 'Hoxton Square', 'Westminster', 'Euston', 'Soho', 'Limehouse', 'De Beauvoir', 'Pimlico', 'Covent Garden', 'West Hampstead', 'Kensington', 'Fitzrovia', 'Soho', 'Pimlico', 'Soho', 'Marylebone', 'Mayfair', 'Bloomsbury', 'Bloomsbury', 'Lower Holloway', 'South Bank', 'Lower Holloway', 'Bloomsbury', 'West Brompton', 'Soho', 'Aldgate', 'Soho', 'Soho', 'Kentish Town', 'Petticoat Lane', 'Soho', 'Westminster', 'Chelsea', 'Kensington', 'Borough', 'London Bridge', 'Covent Garden']\n"
     ]
    }
   ],
   "source": [
    "# make a flat list for each of the lists created \n",
    "\n",
    "all_names_flat = []\n",
    "\n",
    "for result in all_names:\n",
    "    for name in result:\n",
    "        all_names_flat.append(name)\n",
    "\n",
    "all_reviews_flat = []\n",
    "\n",
    "for result in all_reviews:\n",
    "    for review in result:\n",
    "        all_reviews_flat.append(review)\n",
    "        \n",
    "all_addresses_flat = []\n",
    "\n",
    "for result in all_addresses:\n",
    "    for address in result:\n",
    "        all_addresses_flat.append(address)\n",
    "        \n",
    "all_areas_flat = []\n",
    "\n",
    "for result in all_areas:\n",
    "    for area in result:\n",
    "        all_areas_flat.append(area)\n",
    "        \n",
    "print(all_names_flat)\n",
    "print(all_reviews_flat)\n",
    "print(all_addresses_flat)\n",
    "print(all_areas_flat)"
   ]
  },
  {
   "cell_type": "code",
   "execution_count": 11,
   "metadata": {},
   "outputs": [],
   "source": [
    "df_dict = {\n",
    "    \"Name\": all_names_flat,\n",
    "    \"NumReviews\": all_reviews_flat,\n",
    "    \"Location\": all_areas_flat,\n",
    "    \"Address\": all_addresses_flat\n",
    "}\n",
    "df = pd.DataFrame(df_dict)"
   ]
  },
  {
   "cell_type": "code",
   "execution_count": 12,
   "metadata": {},
   "outputs": [
    {
     "data": {
      "text/html": [
       "<div>\n",
       "<style scoped>\n",
       "    .dataframe tbody tr th:only-of-type {\n",
       "        vertical-align: middle;\n",
       "    }\n",
       "\n",
       "    .dataframe tbody tr th {\n",
       "        vertical-align: top;\n",
       "    }\n",
       "\n",
       "    .dataframe thead th {\n",
       "        text-align: right;\n",
       "    }\n",
       "</style>\n",
       "<table border=\"1\" class=\"dataframe\">\n",
       "  <thead>\n",
       "    <tr style=\"text-align: right;\">\n",
       "      <th></th>\n",
       "      <th>Name</th>\n",
       "      <th>NumReviews</th>\n",
       "      <th>Location</th>\n",
       "      <th>Address</th>\n",
       "    </tr>\n",
       "  </thead>\n",
       "  <tbody>\n",
       "    <tr>\n",
       "      <th>0</th>\n",
       "      <td>The Mayfair Chippy</td>\n",
       "      <td>277</td>\n",
       "      <td>Mayfair</td>\n",
       "      <td>14 North Audley Street</td>\n",
       "    </tr>\n",
       "    <tr>\n",
       "      <th>1</th>\n",
       "      <td>Dishoom</td>\n",
       "      <td>1842</td>\n",
       "      <td>Covent Garden</td>\n",
       "      <td>12 Upper Saint Martin's Lane</td>\n",
       "    </tr>\n",
       "    <tr>\n",
       "      <th>2</th>\n",
       "      <td>Flat Iron</td>\n",
       "      <td>377</td>\n",
       "      <td>Soho</td>\n",
       "      <td>17 Beak Street</td>\n",
       "    </tr>\n",
       "    <tr>\n",
       "      <th>3</th>\n",
       "      <td>Restaurant Gordon Ramsay</td>\n",
       "      <td>204</td>\n",
       "      <td>Chelsea</td>\n",
       "      <td>68 Royal Hospital Road</td>\n",
       "    </tr>\n",
       "    <tr>\n",
       "      <th>4</th>\n",
       "      <td>Ffiona’s Restaurant</td>\n",
       "      <td>270</td>\n",
       "      <td>Kensington</td>\n",
       "      <td>51 Kensington Church Street</td>\n",
       "    </tr>\n",
       "    <tr>\n",
       "      <th>...</th>\n",
       "      <td>...</td>\n",
       "      <td>...</td>\n",
       "      <td>...</td>\n",
       "      <td>...</td>\n",
       "    </tr>\n",
       "    <tr>\n",
       "      <th>115</th>\n",
       "      <td>Maroush II</td>\n",
       "      <td>98</td>\n",
       "      <td>Chelsea</td>\n",
       "      <td>38 Beauchamp Place</td>\n",
       "    </tr>\n",
       "    <tr>\n",
       "      <th>116</th>\n",
       "      <td>Jakobs</td>\n",
       "      <td>27</td>\n",
       "      <td>Kensington</td>\n",
       "      <td>20 Gloucester Road</td>\n",
       "    </tr>\n",
       "    <tr>\n",
       "      <th>117</th>\n",
       "      <td>Texas Joe’s</td>\n",
       "      <td>22</td>\n",
       "      <td>Borough</td>\n",
       "      <td>8-9 Snowsfields</td>\n",
       "    </tr>\n",
       "    <tr>\n",
       "      <th>118</th>\n",
       "      <td>Lobos Meat and Tapas</td>\n",
       "      <td>30</td>\n",
       "      <td>London Bridge</td>\n",
       "      <td>14 Borough High Street</td>\n",
       "    </tr>\n",
       "    <tr>\n",
       "      <th>119</th>\n",
       "      <td>The Ivy</td>\n",
       "      <td>170</td>\n",
       "      <td>Covent Garden</td>\n",
       "      <td>1 - 5 West Street</td>\n",
       "    </tr>\n",
       "  </tbody>\n",
       "</table>\n",
       "<p>120 rows × 4 columns</p>\n",
       "</div>"
      ],
      "text/plain": [
       "                         Name NumReviews       Location  \\\n",
       "0          The Mayfair Chippy        277        Mayfair   \n",
       "1                     Dishoom       1842  Covent Garden   \n",
       "2                   Flat Iron        377           Soho   \n",
       "3    Restaurant Gordon Ramsay        204        Chelsea   \n",
       "4         Ffiona’s Restaurant        270     Kensington   \n",
       "..                        ...        ...            ...   \n",
       "115                Maroush II         98        Chelsea   \n",
       "116                    Jakobs         27     Kensington   \n",
       "117               Texas Joe’s         22        Borough   \n",
       "118      Lobos Meat and Tapas         30  London Bridge   \n",
       "119                   The Ivy        170  Covent Garden   \n",
       "\n",
       "                          Address  \n",
       "0          14 North Audley Street  \n",
       "1    12 Upper Saint Martin's Lane  \n",
       "2                  17 Beak Street  \n",
       "3          68 Royal Hospital Road  \n",
       "4     51 Kensington Church Street  \n",
       "..                            ...  \n",
       "115            38 Beauchamp Place  \n",
       "116            20 Gloucester Road  \n",
       "117               8-9 Snowsfields  \n",
       "118        14 Borough High Street  \n",
       "119             1 - 5 West Street  \n",
       "\n",
       "[120 rows x 4 columns]"
      ]
     },
     "execution_count": 12,
     "metadata": {},
     "output_type": "execute_result"
    }
   ],
   "source": [
    "df"
   ]
  },
  {
   "cell_type": "code",
   "execution_count": null,
   "metadata": {},
   "outputs": [],
   "source": []
  },
  {
   "cell_type": "code",
   "execution_count": null,
   "metadata": {},
   "outputs": [],
   "source": [
    "\n"
   ]
  },
  {
   "cell_type": "code",
   "execution_count": null,
   "metadata": {},
   "outputs": [],
   "source": []
  },
  {
   "cell_type": "code",
   "execution_count": null,
   "metadata": {},
   "outputs": [],
   "source": []
  },
  {
   "cell_type": "code",
   "execution_count": null,
   "metadata": {},
   "outputs": [],
   "source": []
  },
  {
   "cell_type": "code",
   "execution_count": null,
   "metadata": {},
   "outputs": [],
   "source": [
    "# CAR PARK - how to deal with multiple tags per entry\n",
    "# get cuisines, convert to string and clean \n",
    "#cuisines = hwk_scraper.find_all(\"a\", {\"class\": \"lemon--a__373c0__IEZFH\",\n",
    "                                      \"class\": \"link__373c0__1G70M\",\n",
    "                                      \"class\": \"link-color--inherit__373c0__3dzpk\",\n",
    "                                      \"class\": \"link-size--default__373c0__7tls6\"})\n",
    "#cuisines = [str(cuisine) for cuisine in cuisines]\n",
    "#cuisines = [cuisine.replace(\"</a>\", \"\") for cuisine in cuisines]\n",
    "#cuisines = [cuisine.split(\">\")[-1] for cuisine in cuisines]\n",
    "#cuisines = [cuisine for cuisine in cuisines if cuisine != \"\"]\n",
    "#cuisines = cuisines[4:-30]"
   ]
  },
  {
   "cell_type": "code",
   "execution_count": null,
   "metadata": {},
   "outputs": [],
   "source": [
    "# contact_numbers = hwk_scraper.find_all(\"p\", {\"class\": \"lemon--p__373c0__3Qnnj\",\n",
    "                                   \"class\": \"text__373c0__2Kxyz\",\n",
    "                                   \"class\": \"text-color--black-extra-light__373c0__2OyzO\",\n",
    "                                   \"class\": \"text-align--right__373c0__1f0KI\", \n",
    "                                   \"class\": \"text-size--small__373c0__3NVWO\"})\n",
    "#contact_numbers = [str(contact) for contact in contact_numbers]\n",
    "#contact_numbers = [contact.replace(\"</p>\", \"\") for contact in contact_numbers]\n",
    "#contact_numbers = [contact.split(\">\")[-1] for contact in contact_numbers]"
   ]
  },
  {
   "cell_type": "code",
   "execution_count": null,
   "metadata": {},
   "outputs": [],
   "source": []
  },
  {
   "cell_type": "code",
   "execution_count": null,
   "metadata": {},
   "outputs": [],
   "source": []
  }
 ],
 "metadata": {
  "kernelspec": {
   "display_name": "Python 3",
   "language": "python",
   "name": "python3"
  },
  "language_info": {
   "codemirror_mode": {
    "name": "ipython",
    "version": 3
   },
   "file_extension": ".py",
   "mimetype": "text/x-python",
   "name": "python",
   "nbconvert_exporter": "python",
   "pygments_lexer": "ipython3",
   "version": "3.8.3"
  }
 },
 "nbformat": 4,
 "nbformat_minor": 4
}
